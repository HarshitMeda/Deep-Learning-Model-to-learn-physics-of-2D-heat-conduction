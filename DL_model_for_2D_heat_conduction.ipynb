{
  "nbformat": 4,
  "nbformat_minor": 0,
  "metadata": {
    "colab": {
      "name": "DLPS-project_ResNet_Implementation.ipynb",
      "provenance": [],
      "collapsed_sections": [],
      "authorship_tag": "ABX9TyMWm6C9cF+HYeUdLc4JcQsy"
    },
    "kernelspec": {
      "name": "python3",
      "display_name": "Python 3"
    }
  },
  "cells": [
    {
      "cell_type": "code",
      "metadata": {
        "id": "FMSWGS5a7Ccy"
      },
      "source": [
        "#Importing the necessary libraries\r\n",
        "import numpy as np\r\n",
        "import matplotlib.pyplot as plt\r\n",
        "from keras.layers import Conv2D, Input, UpSampling2D, BatchNormalization, Conv2DTranspose\r\n",
        "from keras.layers.convolutional import Deconvolution2D \r\n",
        "from keras.models import Model\r\n",
        "from keras.activations import relu,sigmoid,tanh\r\n",
        "import sklearn"
      ],
      "execution_count": null,
      "outputs": []
    },
    {
      "cell_type": "code",
      "metadata": {
        "colab": {
          "base_uri": "https://localhost:8080/"
        },
        "id": "G-qyoXa451cO",
        "outputId": "03ca4b99-2a44-44bc-fff1-e0f900c4b002"
      },
      "source": [
        "#Mounting drive folder to colab for access of features and labels data\r\n",
        "from google.colab import drive\r\n",
        "drive.mount('/content/drive/')"
      ],
      "execution_count": null,
      "outputs": [
        {
          "output_type": "stream",
          "text": [
            "Drive already mounted at /content/drive/; to attempt to forcibly remount, call drive.mount(\"/content/drive/\", force_remount=True).\n"
          ],
          "name": "stdout"
        }
      ]
    },
    {
      "cell_type": "code",
      "metadata": {
        "colab": {
          "base_uri": "https://localhost:8080/"
        },
        "id": "MlWKJmbE6Op_",
        "outputId": "0ac27bba-603a-4ab1-9469-6420e91abaf5"
      },
      "source": [
        "cd '/content/drive/My Drive/Btech - Mechanical Engineering/Sem 5/ME504 Deep Learning Physical Systems'"
      ],
      "execution_count": null,
      "outputs": [
        {
          "output_type": "stream",
          "text": [
            "/content/drive/My Drive/Btech - Mechanical Engineering/Sem 5/ME504 Deep Learning Physical Systems\n"
          ],
          "name": "stdout"
        }
      ]
    },
    {
      "cell_type": "code",
      "metadata": {
        "id": "fcwy1W-k6yY9"
      },
      "source": [
        "'''\r\n",
        "Data Set Source:\r\n",
        "Edalatifar, Mohammad; Tavakoli, Mohammad Bagher; Ghalambaz, Mohammad; Setoudeh, Farbod (2020),\r\n",
        "“A dataset for conduction heat transer and deep learning”, Mendeley Data, V1, doi: 10.17632/rw9yk3c559.1\r\n",
        "'''\r\n",
        "\r\n",
        "Data = np.load('./HeatTransferPhenomena_35_58.npz')\r\n",
        "xTrain = Data['xTrain']\r\n",
        "yTrain = Data['yTrain']\r\n",
        "xTest = Data['xTest']\r\n",
        "yTest = Data['yTest']\r\n",
        "xValidation = Data['xValidation']\r\n",
        "yValidation = Data['yValidation']\r\n",
        "\r\n",
        "del Data"
      ],
      "execution_count": null,
      "outputs": []
    },
    {
      "cell_type": "code",
      "metadata": {
        "colab": {
          "base_uri": "https://localhost:8080/",
          "height": 390
        },
        "id": "6jMsyszR-S5V",
        "outputId": "5189e320-cb1e-41fc-ea33-cc1b18ec562b"
      },
      "source": [
        "#Visualising the Input and Desired Output of the model\r\n",
        "plt.figure(figsize=[6,6])\r\n",
        "plt.subplot(2,2,1)\r\n",
        "plt.imshow(xTrain[1,:,:,0],cmap='gray')\r\n",
        "plt.title(\"Geometry\")\r\n",
        "plt.subplot(2,2,2)\r\n",
        "plt.imshow(xTrain[1,:,:,1],cmap='gray')\r\n",
        "plt.title(\"Boundary Conditions\")\r\n",
        "plt.subplot(2,2,3)\r\n",
        "plt.imshow(yTrain[1,:,:,0],cmap='gray')\r\n",
        "plt.title(\"Steady State Temperature\")\r\n",
        "plt.show()"
      ],
      "execution_count": null,
      "outputs": [
        {
          "output_type": "display_data",
          "data": {
            "image/png": "[encoded data removed]",
            "text/plain": [
              "<Figure size 432x432 with 3 Axes>"
            ]
          },
          "metadata": {
            "tags": [],
            "needs_background": "light"
          }
        }
      ]
    },
    {
      "cell_type": "markdown",
      "metadata": {
        "id": "2oeMzIJMOeRf"
      },
      "source": [
        "#Building the DNN Model"
      ]
    },
    {
      "cell_type": "code",
      "metadata": {
        "id": "AtP8wmfRBY5d"
      },
      "source": [
        "#Bulding the autoencoder model without the feed-forward residual block\r\n",
        "\"\"\"The auto encoder has 3 stages which are encoder,bottleneck and decoder. The encoder extracts the features from the input and stores it in \r\n",
        "the bottleneck. The decoder constructs the output from the bottleneck features.\"\"\"\r\n",
        "\r\n",
        "ip = Input(shape=(64, 64, 2))\r\n",
        "\r\n",
        "enc = Conv2D(16, (3, 3), activation='relu', padding='same',strides=(1,1))(ip)\r\n",
        "enc = Conv2D(32, (3, 3), activation='relu', padding='same',strides=(2,2))(enc)\r\n",
        "enc = Conv2D(64, (3, 3), activation='relu', padding='same',strides=(2,2))(enc)\r\n",
        "enc = Conv2D(128, (3, 3), activation='relu', padding='same',strides=(2,2))(enc)\r\n",
        "enc_op = Conv2D(256, (3, 3), activation='relu', padding='same',strides=(2,2))(enc)\r\n",
        "\r\n",
        "dec = Conv2D(256, (3, 3), activation='relu', padding='same')(enc_op)\r\n",
        "dec = UpSampling2D((2,2))(dec)\r\n",
        "dec = Conv2D(128, (3, 3), activation='relu', padding='same')(dec)\r\n",
        "dec = UpSampling2D((2, 2))(dec)\r\n",
        "dec = Conv2D(64, (3, 3), activation='relu', padding='same')(dec)\r\n",
        "dec = UpSampling2D((2, 2))(dec)\r\n",
        "dec = Conv2D(32, (3, 3), activation='relu', padding='same')(dec)\r\n",
        "dec = UpSampling2D((2, 2))(dec)\r\n",
        "dec = Conv2D(16, (3, 3), activation='relu', padding='same')(dec)\r\n",
        "\r\n",
        "dec_op = Conv2D(1, (3, 3), activation='sigmoid', padding='same')(dec)\r\n",
        "\r\n",
        "\r\n",
        "autoencoder = Model(ip, dec_op)\r\n",
        "autoencoder.compile(optimizer='rmsprop', loss='mse') "
      ],
      "execution_count": null,
      "outputs": []
    },
    {
      "cell_type": "code",
      "metadata": {
        "colab": {
          "base_uri": "https://localhost:8080/"
        },
        "id": "eFUrBd9VUnaa",
        "outputId": "857b0798-2ef0-42a4-fdab-fc4b30be3d92"
      },
      "source": [
        "#Model Summary\r\n",
        "autoencoder.summary()"
      ],
      "execution_count": null,
      "outputs": [
        {
          "output_type": "stream",
          "text": [
            "Model: \"model\"\n",
            "_________________________________________________________________\n",
            "Layer (type)                 Output Shape              Param #   \n",
            "=================================================================\n",
            "input_1 (InputLayer)         [(None, 64, 64, 2)]       0         \n",
            "_________________________________________________________________\n",
            "conv2d (Conv2D)              (None, 64, 64, 16)        304       \n",
            "_________________________________________________________________\n",
            "conv2d_1 (Conv2D)            (None, 32, 32, 32)        4640      \n",
            "_________________________________________________________________\n",
            "conv2d_2 (Conv2D)            (None, 16, 16, 64)        18496     \n",
            "_________________________________________________________________\n",
            "conv2d_3 (Conv2D)            (None, 8, 8, 128)         73856     \n",
            "_________________________________________________________________\n",
            "conv2d_4 (Conv2D)            (None, 4, 4, 256)         295168    \n",
            "_________________________________________________________________\n",
            "conv2d_5 (Conv2D)            (None, 4, 4, 256)         590080    \n",
            "_________________________________________________________________\n",
            "up_sampling2d (UpSampling2D) (None, 8, 8, 256)         0         \n",
            "_________________________________________________________________\n",
            "conv2d_6 (Conv2D)            (None, 8, 8, 128)         295040    \n",
            "_________________________________________________________________\n",
            "up_sampling2d_1 (UpSampling2 (None, 16, 16, 128)       0         \n",
            "_________________________________________________________________\n",
            "conv2d_7 (Conv2D)            (None, 16, 16, 64)        73792     \n",
            "_________________________________________________________________\n",
            "up_sampling2d_2 (UpSampling2 (None, 32, 32, 64)        0         \n",
            "_________________________________________________________________\n",
            "conv2d_8 (Conv2D)            (None, 32, 32, 32)        18464     \n",
            "_________________________________________________________________\n",
            "up_sampling2d_3 (UpSampling2 (None, 64, 64, 32)        0         \n",
            "_________________________________________________________________\n",
            "conv2d_9 (Conv2D)            (None, 64, 64, 16)        4624      \n",
            "_________________________________________________________________\n",
            "conv2d_10 (Conv2D)           (None, 64, 64, 1)         145       \n",
            "=================================================================\n",
            "Total params: 1,374,609\n",
            "Trainable params: 1,374,609\n",
            "Non-trainable params: 0\n",
            "_________________________________________________________________\n"
          ],
          "name": "stdout"
        }
      ]
    },
    {
      "cell_type": "code",
      "metadata": {
        "colab": {
          "base_uri": "https://localhost:8080/"
        },
        "id": "Kx5xFw_XUrdr",
        "outputId": "21022067-92bd-4287-8883-43130ba72ad2"
      },
      "source": [
        "autoencoder.fit(x=xTrain,y=yTrain,validation_data=(xValidation,yValidation),epochs=3)"
      ],
      "execution_count": null,
      "outputs": [
        {
          "output_type": "stream",
          "text": [
            "Epoch 1/3\n",
            "966/966 [==============================] - 768s 794ms/step - loss: 0.1055 - val_loss: 0.1036\n",
            "Epoch 2/3\n",
            "966/966 [==============================] - 763s 790ms/step - loss: 0.1045 - val_loss: 0.1036\n",
            "Epoch 3/3\n",
            "966/966 [==============================] - 764s 791ms/step - loss: 0.1051 - val_loss: 0.1036\n"
          ],
          "name": "stdout"
        },
        {
          "output_type": "execute_result",
          "data": {
            "text/plain": [
              "<tensorflow.python.keras.callbacks.History at 0x7f5c97368cf8>"
            ]
          },
          "metadata": {
            "tags": []
          },
          "execution_count": 8
        }
      ]
    },
    {
      "cell_type": "code",
      "metadata": {
        "colab": {
          "base_uri": "https://localhost:8080/",
          "height": 499
        },
        "id": "6sCfIKq4043o",
        "outputId": "d88da9e8-6886-4132-e1dd-e5ec65868cdc"
      },
      "source": [
        "#Visualising the predicted and desired output\r\n",
        "n=1\r\n",
        "predicted=autoencoder.predict(xTest[n].reshape((1,64,64,2)))\r\n",
        "\r\n",
        "plt.figure(figsize=[8,8])\r\n",
        "plt.subplot(2,2,1)\r\n",
        "plt.imshow(xTest[n,:,:,0],cmap='gray')\r\n",
        "plt.title(\"Geometry\")\r\n",
        "plt.subplot(2,2,2)\r\n",
        "plt.imshow(xTest[n,:,:,1],cmap='gray')\r\n",
        "plt.title(\"Boundary Conditions\")\r\n",
        "plt.subplot(2,2,3)\r\n",
        "plt.imshow(yTest[n,:,:,0],cmap='gray')\r\n",
        "plt.title(\"True Steady State Temperature\")\r\n",
        "plt.subplot(2,2,4)\r\n",
        "plt.imshow(predicted[0,:,:,0],cmap='gray')\r\n",
        "plt.title(\"Predicted Steady State Temperature\")\r\n",
        "plt.show()"
      ],
      "execution_count": null,
      "outputs": [
        {
          "output_type": "display_data",
          "data": {
            "image/png": "[encoded data removed]",
            "text/plain": [
              "<Figure size 576x576 with 4 Axes>"
            ]
          },
          "metadata": {
            "tags": [],
            "needs_background": "light"
          }
        }
      ]
    },
    {
      "cell_type": "markdown",
      "metadata": {
        "id": "5C7RJkUD9Q4b"
      },
      "source": [
        "As we can see here the model fails to converege to the desired function quickly, we will try to over come this problem in the following model by using a Residual Neural Network which enhances the training process using a feedforward mechanism."
      ]
    },
    {
      "cell_type": "markdown",
      "metadata": {
        "id": "0iPAa7a91yrR"
      },
      "source": [
        "#ResNet"
      ]
    },
    {
      "cell_type": "code",
      "metadata": {
        "id": "vidvRZEu6rYH"
      },
      "source": [
        "class Residual_encoder(Model):\r\n",
        "    def __init__(self, kernels, strides=1):\r\n",
        "      #Initialising the variables of the residual block\r\n",
        "      \"\"\"Here we have initalised 3 batch normalization functions along with 3 Convolution functions\"\"\"\r\n",
        "      super().__init__()\r\n",
        "      self.batch_norm1 = BatchNormalization()\r\n",
        "      self.batch_norm2 = BatchNormalization()\r\n",
        "      self.batch_norm3 = BatchNormalization()\r\n",
        "        \r\n",
        "      self.conv1 = Conv2D(kernels, padding='same', kernel_size=3, strides=strides)\r\n",
        "      self.conv2 = Conv2D(kernels, kernel_size=3, padding='same')\r\n",
        "      self.conv3 = Conv2D(kernels, kernel_size=1, strides=strides, padding='same')\r\n",
        "\r\n",
        "    def call(self, X,activation_fn=relu):\r\n",
        "      \"\"\"Once the function is called, we will be transforming the input by performing batch normalization, activation and DeConvolution respectively\"\"\"\r\n",
        "      Y = self.conv1(activation_fn(self.batch_norm1(X)))\r\n",
        "      Y = self.conv2(activation_fn(self.batch_norm2(Y)))\r\n",
        "      X = self.conv3(activation_fn(self.batch_norm3(X)))\r\n",
        "      #Performing feed forward on the data to retain information in the input\r\n",
        "      Y += X\r\n",
        "      return Y"
      ],
      "execution_count": null,
      "outputs": []
    },
    {
      "cell_type": "code",
      "metadata": {
        "id": "WekyHq6XF6DM"
      },
      "source": [
        "class Residual_decoder(Model):\r\n",
        "    def __init__(self, kernels, strides=1):\r\n",
        "      #Initialising the variables of the residual block\r\n",
        "      \"\"\"Here we have initalised 3 batch normalization functions along with 3 DeConvolution functions\"\"\"\r\n",
        "      super().__init__()\r\n",
        "      self.batch_norm1 = BatchNormalization()\r\n",
        "      self.batch_norm2 = BatchNormalization()\r\n",
        "      self.batch_norm3 = BatchNormalization()\r\n",
        "        \r\n",
        "      self.conv1 = Conv2DTranspose(kernels, padding='same', kernel_size=3, strides=strides)\r\n",
        "      self.conv2 = Conv2DTranspose(kernels, kernel_size=3, padding='same')\r\n",
        "      self.conv3 = Conv2DTranspose(kernels, kernel_size=1, strides=strides)\r\n",
        "\r\n",
        "    def call(self, X,activation_fn=relu):\r\n",
        "      \"\"\"Once the function is called, we will be transforming the input by performing batch normalization, activation and DeConvolution respectively\"\"\"\r\n",
        "      Y = self.conv1(activation_fn(self.batch_norm1(X)))\r\n",
        "      Y = self.conv2(activation_fn(self.batch_norm2(Y)))\r\n",
        "      X = self.conv3(activation_fn(self.batch_norm3(X)))\r\n",
        "      #Performing feed forward on the data to retain information in the input\r\n",
        "      Y += X\r\n",
        "      return Y"
      ],
      "execution_count": null,
      "outputs": []
    },
    {
      "cell_type": "markdown",
      "metadata": {
        "id": "gCR6_HeqgQh3"
      },
      "source": [
        "### ReLu Activation"
      ]
    },
    {
      "cell_type": "code",
      "metadata": {
        "id": "uYypK7pD103F"
      },
      "source": [
        "#Constructing the autoencoder model with feed-forward residual block and mse loss function and adam optimizer and ReLu activation function\r\n",
        "ip = Input(shape=(64, 64, 2))\r\n",
        "\r\n",
        "enc = Residual_encoder(16)(ip)\r\n",
        "enc = Residual_encoder(32,2)(enc)\r\n",
        "enc = Residual_encoder(64,2)(enc)\r\n",
        "enc = Residual_encoder(128,2)(enc)\r\n",
        "enc_op = Residual_encoder(256,2)(enc)\r\n",
        "\r\n",
        "dec = Residual_decoder(128,2)(enc_op)\r\n",
        "dec = Residual_decoder(64,2)(dec)\r\n",
        "dec = Residual_decoder(32,2)(dec)\r\n",
        "dec = Residual_decoder(16,2)(dec)\r\n",
        "dec = Residual_decoder(1)(dec)\r\n",
        "dec_op = sigmoid(dec)\r\n",
        "\r\n",
        "autoencoder = Model(ip, dec_op)\r\n",
        "autoencoder.compile(optimizer='adam', loss='mse') "
      ],
      "execution_count": null,
      "outputs": []
    },
    {
      "cell_type": "code",
      "metadata": {
        "colab": {
          "base_uri": "https://localhost:8080/"
        },
        "id": "1FDt00NWSohB",
        "outputId": "29c6312a-f73d-4fa6-bb10-03bea6756baf"
      },
      "source": [
        "#Model summary\r\n",
        "autoencoder.summary()"
      ],
      "execution_count": null,
      "outputs": [
        {
          "output_type": "stream",
          "text": [
            "Model: \"model\"\n",
            "_________________________________________________________________\n",
            "Layer (type)                 Output Shape              Param #   \n",
            "=================================================================\n",
            "input_1 (InputLayer)         [(None, 64, 64, 2)]       0         \n",
            "_________________________________________________________________\n",
            "residual_encoder (Residual_e (None, 64, 64, 16)        2752      \n",
            "_________________________________________________________________\n",
            "residual_encoder_1 (Residual (None, 32, 32, 32)        14688     \n",
            "_________________________________________________________________\n",
            "residual_encoder_2 (Residual (None, 16, 16, 64)        58048     \n",
            "_________________________________________________________________\n",
            "residual_encoder_3 (Residual (None, 8, 8, 128)         230784    \n",
            "_________________________________________________________________\n",
            "residual_encoder_4 (Residual (None, 4, 4, 256)         920320    \n",
            "_________________________________________________________________\n",
            "residual_decoder (Residual_d (None, 8, 8, 128)         478080    \n",
            "_________________________________________________________________\n",
            "residual_decoder_1 (Residual (None, 16, 16, 64)        120256    \n",
            "_________________________________________________________________\n",
            "residual_decoder_2 (Residual (None, 32, 32, 32)        30432     \n",
            "_________________________________________________________________\n",
            "residual_decoder_3 (Residual (None, 64, 64, 16)        7792      \n",
            "_________________________________________________________________\n",
            "residual_decoder_4 (Residual (None, 64, 64, 1)         304       \n",
            "_________________________________________________________________\n",
            "tf.math.sigmoid (TFOpLambda) (None, 64, 64, 1)         0         \n",
            "=================================================================\n",
            "Total params: 1,863,456\n",
            "Trainable params: 1,859,030\n",
            "Non-trainable params: 4,426\n",
            "_________________________________________________________________\n"
          ],
          "name": "stdout"
        }
      ]
    },
    {
      "cell_type": "code",
      "metadata": {
        "colab": {
          "base_uri": "https://localhost:8080/"
        },
        "id": "zDqCv1cxbuic",
        "outputId": "7b76f6da-ff39-412c-eeba-07411e7bbceb"
      },
      "source": [
        "#Fit the model to the given training data\r\n",
        "autoencoder.fit(x=xTrain,y=yTrain,validation_data=(xValidation,yValidation),epochs=3)"
      ],
      "execution_count": null,
      "outputs": [
        {
          "output_type": "stream",
          "text": [
            "Epoch 1/3\n",
            "966/966 [==============================] - 1353s 1s/step - loss: 0.0314 - val_loss: 0.0105\n",
            "Epoch 2/3\n",
            "966/966 [==============================] - 1399s 1s/step - loss: 0.0020 - val_loss: 7.4955e-04\n",
            "Epoch 3/3\n",
            "966/966 [==============================] - 1359s 1s/step - loss: 8.0809e-04 - val_loss: 7.3952e-04\n"
          ],
          "name": "stdout"
        },
        {
          "output_type": "execute_result",
          "data": {
            "text/plain": [
              "<tensorflow.python.keras.callbacks.History at 0x7f066f320160>"
            ]
          },
          "metadata": {
            "tags": []
          },
          "execution_count": 10
        }
      ]
    },
    {
      "cell_type": "code",
      "metadata": {
        "id": "Jdq6N_zzihta"
      },
      "source": [
        "#Saving the weights of the trained model\r\n",
        "autoencoder.save_weights('./ResNet_ReLu.h5')"
      ],
      "execution_count": null,
      "outputs": []
    },
    {
      "cell_type": "code",
      "metadata": {
        "id": "xby_sZas-piS"
      },
      "source": [
        "#Run this code to load the trained weights\r\n",
        "autoencoder.load_weights('./ResNet_ReLu.h5')"
      ],
      "execution_count": null,
      "outputs": []
    },
    {
      "cell_type": "code",
      "metadata": {
        "colab": {
          "base_uri": "https://localhost:8080/",
          "height": 498
        },
        "id": "hzR4nwEGiijN",
        "outputId": "7b72f248-d066-49b7-fd3b-a7c6bd49f134"
      },
      "source": [
        "#Visualising a sample to see if the model is accurate\r\n",
        "n=1\r\n",
        "predicted=autoencoder.predict(xTest[n].reshape((1,64,64,2)))\r\n",
        "\r\n",
        "plt.figure(figsize=[8,8])\r\n",
        "plt.subplot(2,2,1)\r\n",
        "plt.imshow(xTest[n,:,:,0],cmap='gray')\r\n",
        "plt.title(\"Geometry\")\r\n",
        "plt.subplot(2,2,2)\r\n",
        "plt.imshow(xTest[n,:,:,1],cmap='gray')\r\n",
        "plt.title(\"Boundary Conditions\")\r\n",
        "plt.subplot(2,2,3)\r\n",
        "plt.imshow(yTest[n,:,:,0],cmap='gray')\r\n",
        "plt.title(\"True Steady State Temperature\")\r\n",
        "plt.subplot(2,2,4)\r\n",
        "plt.imshow(predicted[0,:,:,0],cmap='gray')\r\n",
        "plt.title(\"Predicted Steady State Temperature\")\r\n",
        "plt.show()"
      ],
      "execution_count": null,
      "outputs": [
        {
          "output_type": "display_data",
          "data": {
            "image/png": "[encoded data removed]",
            "text/plain": [
              "<Figure size 576x576 with 4 Axes>"
            ]
          },
          "metadata": {
            "tags": [],
            "needs_background": "light"
          }
        }
      ]
    },
    {
      "cell_type": "code",
      "metadata": {
        "id": "Zy-NItEZ1wAl"
      },
      "source": [
        "from sklearn.metrics import mean_squared_error"
      ],
      "execution_count": null,
      "outputs": []
    },
    {
      "cell_type": "code",
      "metadata": {
        "colab": {
          "base_uri": "https://localhost:8080/"
        },
        "id": "Ab24XBFlr3F7",
        "outputId": "3165f541-0493-4fb7-e243-0116a7684fe7"
      },
      "source": [
        "#Loss value of model on test data\r\n",
        "Loss_ReLu_test=autoencoder.test_on_batch(xTest[0:1000],yTest[0:1000])\r\n",
        "print(Loss_ReLu_test)"
      ],
      "execution_count": null,
      "outputs": [
        {
          "output_type": "stream",
          "text": [
            "0.0020844177342951298\n"
          ],
          "name": "stdout"
        }
      ]
    },
    {
      "cell_type": "code",
      "metadata": {
        "colab": {
          "base_uri": "https://localhost:8080/"
        },
        "id": "cwF8eBjs068k",
        "outputId": "be53ac81-a322-4725-956e-93b6875cea3e"
      },
      "source": [
        "#Loss value of model on train data\r\n",
        "Loss_ReLu_train=autoencoder.test_on_batch(xTrain[0:1000],yTrain[0:1000])\r\n",
        "print(Loss_ReLu_train)"
      ],
      "execution_count": null,
      "outputs": [
        {
          "output_type": "stream",
          "text": [
            "0.0021278385538607836\n"
          ],
          "name": "stdout"
        }
      ]
    },
    {
      "cell_type": "markdown",
      "metadata": {
        "id": "jayY7xF8BPkB"
      },
      "source": [
        "### Tanh Activation Fn"
      ]
    },
    {
      "cell_type": "code",
      "metadata": {
        "id": "fI426mHUQ49C"
      },
      "source": [
        "#Constructing the autoencoder model with feed-forward residual block and mse loss function and adam optimizer and tanh activation function\r\n",
        "ip = Input(shape=(64, 64, 2))\r\n",
        "\r\n",
        "enc = Residual_encoder(16)(ip,tanh)\r\n",
        "enc = Residual_encoder(32,2)(enc,tanh)\r\n",
        "enc = Residual_encoder(64,2)(enc,tanh)\r\n",
        "enc = Residual_encoder(128,2)(enc,tanh)\r\n",
        "enc_op = Residual_encoder(256,2)(enc,tanh)\r\n",
        "\r\n",
        "dec = Residual_decoder(128,2)(enc_op,tanh)\r\n",
        "dec = Residual_decoder(64,2)(dec,tanh)\r\n",
        "dec = Residual_decoder(32,2)(dec,tanh)\r\n",
        "dec = Residual_decoder(16,2)(dec,tanh)\r\n",
        "dec = Residual_decoder(1)(dec,tanh)\r\n",
        "dec_op = sigmoid(dec)\r\n",
        "\r\n",
        "autoencoder = Model(ip, dec_op)\r\n",
        "autoencoder.compile(optimizer='adam', loss='mse') "
      ],
      "execution_count": null,
      "outputs": []
    },
    {
      "cell_type": "code",
      "metadata": {
        "colab": {
          "base_uri": "https://localhost:8080/"
        },
        "id": "ZDXHT96EnCWo",
        "outputId": "9b010b9d-5248-4b59-c595-a7a2b7726fde"
      },
      "source": [
        "#Model summary\r\n",
        "autoencoder.summary()"
      ],
      "execution_count": null,
      "outputs": [
        {
          "output_type": "stream",
          "text": [
            "Model: \"model_1\"\n",
            "_________________________________________________________________\n",
            "Layer (type)                 Output Shape              Param #   \n",
            "=================================================================\n",
            "input_2 (InputLayer)         [(None, 64, 64, 2)]       0         \n",
            "_________________________________________________________________\n",
            "residual_encoder_5 (Residual (None, 64, 64, 16)        2752      \n",
            "_________________________________________________________________\n",
            "residual_encoder_6 (Residual (None, 32, 32, 32)        14688     \n",
            "_________________________________________________________________\n",
            "residual_encoder_7 (Residual (None, 16, 16, 64)        58048     \n",
            "_________________________________________________________________\n",
            "residual_encoder_8 (Residual (None, 8, 8, 128)         230784    \n",
            "_________________________________________________________________\n",
            "residual_encoder_9 (Residual (None, 4, 4, 256)         920320    \n",
            "_________________________________________________________________\n",
            "residual_decoder_5 (Residual (None, 8, 8, 128)         478080    \n",
            "_________________________________________________________________\n",
            "residual_decoder_6 (Residual (None, 16, 16, 64)        120256    \n",
            "_________________________________________________________________\n",
            "residual_decoder_7 (Residual (None, 32, 32, 32)        30432     \n",
            "_________________________________________________________________\n",
            "residual_decoder_8 (Residual (None, 64, 64, 16)        7792      \n",
            "_________________________________________________________________\n",
            "residual_decoder_9 (Residual (None, 64, 64, 1)         304       \n",
            "_________________________________________________________________\n",
            "tf.math.sigmoid_1 (TFOpLambd (None, 64, 64, 1)         0         \n",
            "=================================================================\n",
            "Total params: 1,863,456\n",
            "Trainable params: 1,859,030\n",
            "Non-trainable params: 4,426\n",
            "_________________________________________________________________\n"
          ],
          "name": "stdout"
        }
      ]
    },
    {
      "cell_type": "code",
      "metadata": {
        "colab": {
          "base_uri": "https://localhost:8080/"
        },
        "id": "IUxc2lmBnGu4",
        "outputId": "cc4555bf-fd41-457f-8ce7-4a63cb607182"
      },
      "source": [
        "#Fit the model to the given training data\r\n",
        "autoencoder.fit(x=xTrain,y=yTrain,validation_data=(xValidation,yValidation),epochs=3)"
      ],
      "execution_count": null,
      "outputs": [
        {
          "output_type": "stream",
          "text": [
            "Epoch 1/3\n",
            "966/966 [==============================] - 1368s 1s/step - loss: 0.0363 - val_loss: 0.0103\n",
            "Epoch 2/3\n",
            "966/966 [==============================] - 1364s 1s/step - loss: 0.0021 - val_loss: 0.0077\n",
            "Epoch 3/3\n",
            "966/966 [==============================] - 1355s 1s/step - loss: 0.0016 - val_loss: 0.0012\n"
          ],
          "name": "stdout"
        },
        {
          "output_type": "execute_result",
          "data": {
            "text/plain": [
              "<tensorflow.python.keras.callbacks.History at 0x7f4f79ca1240>"
            ]
          },
          "metadata": {
            "tags": []
          },
          "execution_count": 20
        }
      ]
    },
    {
      "cell_type": "code",
      "metadata": {
        "id": "x4MMo2l7nLja"
      },
      "source": [
        "#Saving the weights of the trained model\r\n",
        "autoencoder.save_weights('./ResNet_tanh.h5')"
      ],
      "execution_count": null,
      "outputs": []
    },
    {
      "cell_type": "code",
      "metadata": {
        "id": "xVfTZRxVnRbD"
      },
      "source": [
        "#Run this code to load the trained weights\r\n",
        "#autoencoder.load_weights('./ResNet_tanh.h5')"
      ],
      "execution_count": null,
      "outputs": []
    },
    {
      "cell_type": "code",
      "metadata": {
        "colab": {
          "base_uri": "https://localhost:8080/",
          "height": 498
        },
        "id": "KZE8clpgnUlM",
        "outputId": "1d29faef-f164-491a-ea60-fd0596741af1"
      },
      "source": [
        "#Visualising a sample to see if the model is accurate\r\n",
        "n=1\r\n",
        "predicted=autoencoder.predict(xTest[n].reshape((1,64,64,2)))\r\n",
        "\r\n",
        "plt.figure(figsize=[8,8])\r\n",
        "plt.subplot(2,2,1)\r\n",
        "plt.imshow(xTest[n,:,:,0],cmap='gray')\r\n",
        "plt.title(\"Geometry\")\r\n",
        "plt.subplot(2,2,2)\r\n",
        "plt.imshow(xTest[n,:,:,1],cmap='gray')\r\n",
        "plt.title(\"Boundary Conditions\")\r\n",
        "plt.subplot(2,2,3)\r\n",
        "plt.imshow(yTest[n,:,:,0],cmap='gray')\r\n",
        "plt.title(\"True Steady State Temperature\")\r\n",
        "plt.subplot(2,2,4)\r\n",
        "plt.imshow(predicted[0,:,:,0],cmap='gray')\r\n",
        "plt.title(\"Predicted Steady State Temperature\")\r\n",
        "plt.show()"
      ],
      "execution_count": null,
      "outputs": [
        {
          "output_type": "display_data",
          "data": {
            "image/png": "[encoded data removed]",
            "text/plain": [
              "<Figure size 576x576 with 4 Axes>"
            ]
          },
          "metadata": {
            "tags": [],
            "needs_background": "light"
          }
        }
      ]
    },
    {
      "cell_type": "code",
      "metadata": {
        "colab": {
          "base_uri": "https://localhost:8080/"
        },
        "id": "7CTj0QODnbZP",
        "outputId": "0476d983-38c3-4660-883f-aef88e1dca78"
      },
      "source": [
        "#Loss value of model on test data\r\n",
        "Loss_tanh_test=autoencoder.test_on_batch(xTest[0:1000],yTest[0:1000])\r\n",
        "print(Loss_tanh_test)\r\n",
        "\r\n",
        "#Loss value of model on train data\r\n",
        "Loss_tanh_train=autoencoder.test_on_batch(xTrain[0:1000],yTrain[0:1000])\r\n",
        "print(Loss_tanh_train)"
      ],
      "execution_count": null,
      "outputs": [
        {
          "output_type": "stream",
          "text": [
            "0.001153799588792026\n",
            "0.001143763423897326\n"
          ],
          "name": "stdout"
        }
      ]
    },
    {
      "cell_type": "markdown",
      "metadata": {
        "id": "I8rSIlxsFELY"
      },
      "source": [
        "### Sigmoid Activation Fn"
      ]
    },
    {
      "cell_type": "code",
      "metadata": {
        "id": "iF4H_IeaFM3f"
      },
      "source": [
        "#Constructing the autoencoder model with feed-forward residual block and mse loss function and adam optimizer and sigmoid activation function\r\n",
        "ip = Input(shape=(64, 64, 2))\r\n",
        "\r\n",
        "enc = Residual_encoder(16)(ip,sigmoid)\r\n",
        "enc = Residual_encoder(32,2)(enc,sigmoid)\r\n",
        "enc = Residual_encoder(64,2)(enc,sigmoid)\r\n",
        "enc = Residual_encoder(128,2)(enc,sigmoid)\r\n",
        "enc_op = Residual_encoder(256,2)(enc,sigmoid)\r\n",
        "\r\n",
        "dec = Residual_decoder(128,2)(enc_op,sigmoid)\r\n",
        "dec = Residual_decoder(64,2)(dec,sigmoid)\r\n",
        "dec = Residual_decoder(32,2)(dec,sigmoid)\r\n",
        "dec = Residual_decoder(16,2)(dec,sigmoid)\r\n",
        "dec = Residual_decoder(1)(dec,sigmoid)\r\n",
        "dec_op = sigmoid(dec)\r\n",
        "\r\n",
        "autoencoder = Model(ip, dec_op)\r\n",
        "autoencoder.compile(optimizer='adam', loss='mse') "
      ],
      "execution_count": null,
      "outputs": []
    },
    {
      "cell_type": "code",
      "metadata": {
        "colab": {
          "base_uri": "https://localhost:8080/"
        },
        "id": "3XzSeDNgoKB4",
        "outputId": "3b0c6498-1909-4cd5-bc3c-da3d59b31e86"
      },
      "source": [
        "#Model summary\r\n",
        "autoencoder.summary()"
      ],
      "execution_count": null,
      "outputs": [
        {
          "output_type": "stream",
          "text": [
            "Model: \"model_2\"\n",
            "_________________________________________________________________\n",
            "Layer (type)                 Output Shape              Param #   \n",
            "=================================================================\n",
            "input_3 (InputLayer)         [(None, 64, 64, 2)]       0         \n",
            "_________________________________________________________________\n",
            "residual_encoder_10 (Residua (None, 64, 64, 16)        2752      \n",
            "_________________________________________________________________\n",
            "residual_encoder_11 (Residua (None, 32, 32, 32)        14688     \n",
            "_________________________________________________________________\n",
            "residual_encoder_12 (Residua (None, 16, 16, 64)        58048     \n",
            "_________________________________________________________________\n",
            "residual_encoder_13 (Residua (None, 8, 8, 128)         230784    \n",
            "_________________________________________________________________\n",
            "residual_encoder_14 (Residua (None, 4, 4, 256)         920320    \n",
            "_________________________________________________________________\n",
            "residual_decoder_10 (Residua (None, 8, 8, 128)         478080    \n",
            "_________________________________________________________________\n",
            "residual_decoder_11 (Residua (None, 16, 16, 64)        120256    \n",
            "_________________________________________________________________\n",
            "residual_decoder_12 (Residua (None, 32, 32, 32)        30432     \n",
            "_________________________________________________________________\n",
            "residual_decoder_13 (Residua (None, 64, 64, 16)        7792      \n",
            "_________________________________________________________________\n",
            "residual_decoder_14 (Residua (None, 64, 64, 1)         304       \n",
            "_________________________________________________________________\n",
            "tf.math.sigmoid_2 (TFOpLambd (None, 64, 64, 1)         0         \n",
            "=================================================================\n",
            "Total params: 1,863,456\n",
            "Trainable params: 1,859,030\n",
            "Non-trainable params: 4,426\n",
            "_________________________________________________________________\n"
          ],
          "name": "stdout"
        }
      ]
    },
    {
      "cell_type": "code",
      "metadata": {
        "colab": {
          "base_uri": "https://localhost:8080/"
        },
        "id": "yogWWQWeoPLi",
        "outputId": "34b1d8e6-0da2-4289-dbb9-8a3962760e2b"
      },
      "source": [
        "#Fit the model to the given training data\r\n",
        "autoencoder.fit(x=xTrain,y=yTrain,validation_data=(xValidation,yValidation),epochs=3)"
      ],
      "execution_count": null,
      "outputs": [
        {
          "output_type": "stream",
          "text": [
            "Epoch 1/3\n",
            "966/966 [==============================] - 1377s 1s/step - loss: 0.0423 - val_loss: 0.0445\n",
            "Epoch 2/3\n",
            "966/966 [==============================] - 1384s 1s/step - loss: 0.0044 - val_loss: 0.0554\n",
            "Epoch 3/3\n",
            "966/966 [==============================] - 1372s 1s/step - loss: 0.0025 - val_loss: 0.0170\n"
          ],
          "name": "stdout"
        },
        {
          "output_type": "execute_result",
          "data": {
            "text/plain": [
              "<tensorflow.python.keras.callbacks.History at 0x7f4f79397208>"
            ]
          },
          "metadata": {
            "tags": []
          },
          "execution_count": 26
        }
      ]
    },
    {
      "cell_type": "code",
      "metadata": {
        "id": "qLc3icr_oWYw"
      },
      "source": [
        "#Saving the weights of the trained model\r\n",
        "autoencoder.save_weights('./ResNet_sigmoid.h5')"
      ],
      "execution_count": null,
      "outputs": []
    },
    {
      "cell_type": "code",
      "metadata": {
        "id": "pNMc_2doobS_"
      },
      "source": [
        "#Run this code to load the trained weights\r\n",
        "#autoencoder.load_weights('./ResNet_sigmoid.h5')"
      ],
      "execution_count": null,
      "outputs": []
    },
    {
      "cell_type": "code",
      "metadata": {
        "colab": {
          "base_uri": "https://localhost:8080/",
          "height": 498
        },
        "id": "MgxfYimWotH6",
        "outputId": "61c6cec2-8815-420b-f064-f86d1e9f7724"
      },
      "source": [
        "#Visualising a sample to see if the model is accurate\r\n",
        "n=1\r\n",
        "predicted=autoencoder.predict(xTest[n].reshape((1,64,64,2)))\r\n",
        "\r\n",
        "plt.figure(figsize=[8,8])\r\n",
        "plt.subplot(2,2,1)\r\n",
        "plt.imshow(xTest[n,:,:,0],cmap='gray')\r\n",
        "plt.title(\"Geometry\")\r\n",
        "plt.subplot(2,2,2)\r\n",
        "plt.imshow(xTest[n,:,:,1],cmap='gray')\r\n",
        "plt.title(\"Boundary Conditions\")\r\n",
        "plt.subplot(2,2,3)\r\n",
        "plt.imshow(yTest[n,:,:,0],cmap='gray')\r\n",
        "plt.title(\"True Steady State Temperature\")\r\n",
        "plt.subplot(2,2,4)\r\n",
        "plt.imshow(predicted[0,:,:,0],cmap='gray')\r\n",
        "plt.title(\"Predicted Steady State Temperature\")\r\n",
        "plt.show()"
      ],
      "execution_count": null,
      "outputs": [
        {
          "output_type": "display_data",
          "data": {
            "image/png": "[encoded data removed]",
            "text/plain": [
              "<Figure size 576x576 with 4 Axes>"
            ]
          },
          "metadata": {
            "tags": [],
            "needs_background": "light"
          }
        }
      ]
    },
    {
      "cell_type": "code",
      "metadata": {
        "colab": {
          "base_uri": "https://localhost:8080/"
        },
        "id": "UZS0Rl7Fojvf",
        "outputId": "416ccc16-15dd-4c6c-91ee-4e91f67347b1"
      },
      "source": [
        "#Loss value of model on test data\r\n",
        "Loss_sigmoid_test=autoencoder.test_on_batch(xTest[0:1000],yTest[0:1000])\r\n",
        "print(Loss_sigmoid_test)\r\n",
        "\r\n",
        "#Loss value of model on train data\r\n",
        "Loss_sigmoid_train=autoencoder.test_on_batch(xTrain[0:1000],yTrain[0:1000])\r\n",
        "print(Loss_sigmoid_train)"
      ],
      "execution_count": null,
      "outputs": [
        {
          "output_type": "stream",
          "text": [
            "0.017036594450473785\n",
            "0.017630619928240776\n"
          ],
          "name": "stdout"
        }
      ]
    },
    {
      "cell_type": "markdown",
      "metadata": {
        "id": "68qDGewX4wVH"
      },
      "source": [
        "#Comparison"
      ]
    },
    {
      "cell_type": "code",
      "metadata": {
        "colab": {
          "base_uri": "https://localhost:8080/",
          "height": 294
        },
        "id": "7g9q3h8b_Uko",
        "outputId": "3fb3e5fc-f0ce-40d0-884b-e806b2665bce"
      },
      "source": [
        "train_loss=[Loss_ReLu_train, Loss_tanh_train, Loss_sigmoid_train]\r\n",
        "test_loss=[Loss_ReLu_test, Loss_tanh_test, Loss_sigmoid_test]\r\n",
        " \r\n",
        "br1 = np.arange(3) \r\n",
        "br2 = [x + 0.25 for x in br1] \r\n",
        " \r\n",
        "plt.bar(br1, test_loss, color ='b', width = 0.25, label ='test_loss') \r\n",
        "plt.bar(br2, train_loss, color ='g', width = 0.25, label ='train_loss')  \r\n",
        "  \r\n",
        "plt.xlabel('Activation function', fontweight ='bold') \r\n",
        "plt.ylabel('Loss', fontweight ='bold') \r\n",
        "plt.xticks([r + 0.125 for r in range(len(train_loss))], ['relu', 'tanh', 'sigmoid']) \r\n",
        "plt.title(\"Model loss value for activation functions\")\r\n",
        "plt.legend()\r\n",
        "plt.show() "
      ],
      "execution_count": null,
      "outputs": [
        {
          "output_type": "display_data",
          "data": {
            "image/png": "[encoded data removed]",
            "text/plain": [
              "<Figure size 432x288 with 1 Axes>"
            ]
          },
          "metadata": {
            "tags": [],
            "needs_background": "light"
          }
        }
      ]
    }
  ]
}